{
  "nbformat": 4,
  "nbformat_minor": 0,
  "metadata": {
    "colab": {
      "name": "Untitled0.ipynb",
      "provenance": [],
      "collapsed_sections": []
    },
    "kernelspec": {
      "name": "python3",
      "display_name": "Python 3"
    },
    "language_info": {
      "name": "python"
    }
  },
  "cells": [
    {
      "cell_type": "markdown",
      "metadata": {
        "id": "1VA743BOiQqB"
      },
      "source": [
        "Variable `text` can reference either to a file, or text. To check what is inside of variable `text`, let's check if file with such name exists in the current directory. For this purpose I'm using a standard library for working with files. If such file exists, let's treat variable `text` as a filename. Otherwise, read it directly.\n",
        "\n",
        "All of the above can be packed into function for retrieving `text`'s content"
      ]
    },
    {
      "cell_type": "code",
      "metadata": {
        "id": "LFh0CFNDhsk1"
      },
      "source": [
        "import os.path\n",
        "\n",
        "def retrieve_text_content(text: str) -> str:\n",
        "  if os.path.isfile(text):\n",
        "    print(f'Reading file {text}')\n",
        "    text_file = open(text, 'r')\n",
        "    return text_file.read()\n",
        "  else:\n",
        "    print('File not found, reading from text directly')\n",
        "    return text"
      ],
      "execution_count": 8,
      "outputs": []
    },
    {
      "cell_type": "markdown",
      "metadata": {
        "id": "9IJQz_CCkinD"
      },
      "source": [
        "Now, the function that reads text and returns the list of rows, split by whitespaces. The function should accept a text to split, and a list of whitespaces to use as separators.\n",
        "\n",
        "Here I am using `typing` library to allow type hints, such as `List[str]`\n"
      ]
    },
    {
      "cell_type": "markdown",
      "metadata": {
        "id": "959GbnBenSPw"
      },
      "source": [
        "`is_whitespace` is defined as lambda taking a character and returning bool. This lambda checks if symbol `x` belongs to set `whitespaces`"
      ]
    },
    {
      "cell_type": "markdown",
      "metadata": {
        "id": "RSvbvp8dopJc"
      },
      "source": [
        "The logic of splitting a text into rows is straightforward. First of all, let's create a result variable `result`, and a variable for accumulating current row - `row`. Next, reading each char `c`, there are 2 ways: either `c` is whitespace, or not. If `c` is not a whitespace, `c` is a valid character and it must be a part of row. Otherwise, `c` is a whitespace and indicates a row end. It means, that current row must be added to the `result` list, and `row` value must be reset."
      ]
    },
    {
      "cell_type": "code",
      "metadata": {
        "id": "tKYRtH1nlr92"
      },
      "source": [
        "from typing import List\n",
        "from typing import Callable\n",
        "\n",
        "def split_text(text: str, whitespaces: List[str]) -> List[str]:\n",
        "  is_whitespace: Callable[char, bool] = lambda x: x in whitespaces\n",
        "  row = \"\"\n",
        "  result = []\n",
        "  for c in text:\n",
        "    if is_whitespace(c):\n",
        "      result.append(row)\n",
        "      row = \"\"\n",
        "    else:\n",
        "      row += c\n",
        "  if len(row) != 0:\n",
        "    result.append(row)\n",
        "  return result\n"
      ],
      "execution_count": 29,
      "outputs": []
    },
    {
      "cell_type": "markdown",
      "metadata": {
        "id": "HfkAbeHGpVjE"
      },
      "source": [
        "Now we can test the functions by calling them on some values. I'm creating a file \"input.txt\" with the following content:\n",
        "```\n",
        "a := 1;b := 2\n",
        "func add(x, y int) {\n",
        "  return x + y\n",
        "}\n",
        "```\n",
        "and assign the filename to variable `text`. The `whitespaces` set will include symbols: `\\n`, `;`"
      ]
    },
    {
      "cell_type": "code",
      "metadata": {
        "colab": {
          "base_uri": "https://localhost:8080/"
        },
        "id": "TX2CKMwNqWt3",
        "outputId": "2b50573a-d1fc-439b-c6ef-71e0112889a1"
      },
      "source": [
        "text = 'input.txt'\n",
        "whitespaces = ['\\n', ';']\n",
        "\n",
        "text_content = retrieve_text_content(text)\n",
        "rows = split_text(text_content, whitespaces)\n",
        "print(rows)"
      ],
      "execution_count": 34,
      "outputs": [
        {
          "output_type": "stream",
          "name": "stdout",
          "text": [
            "Reading file input.txt\n",
            "['a := 1', 'b := 2', 'func add(x, y int) {', '  return x + y', '}']\n"
          ]
        }
      ]
    }
  ]
}