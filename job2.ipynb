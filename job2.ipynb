{
  "nbformat": 4,
  "nbformat_minor": 0,
  "metadata": {
    "colab": {
      "name": "Untitled1.ipynb",
      "provenance": [],
      "collapsed_sections": []
    },
    "kernelspec": {
      "name": "python3",
      "display_name": "Python 3"
    },
    "language_info": {
      "name": "python"
    }
  },
  "cells": [
    {
      "cell_type": "markdown",
      "metadata": {
        "id": "YUe5sQJP4Q8T"
      },
      "source": [
        "```\n",
        "{'toks': set(token), 'vars': dict(var: definition), 'hvar': var}\n",
        "token : (class, value)\n",
        "class : int\n",
        "value : str\n",
        "var : str                 # non-terminal name\n",
        "definition : list(rule)\n",
        "rule : list(var | token)  # right side of the rule\n",
        "```\n",
        "\n"
      ]
    },
    {
      "cell_type": "markdown",
      "metadata": {
        "id": "r2kla8JDLicT"
      },
      "source": [
        "The algorithm for filtering out useless nonterminals is the following:\n",
        "If the nonterminal `A` is useful, then production from `A` must produce a string consisting only of terminals in a finite number of steps.\n",
        "The production is finite if it consists only of:\n",
        "1. Terminals, or\n",
        "2. Useful nonterminals."
      ]
    },
    {
      "cell_type": "code",
      "metadata": {
        "id": "u0XhRK1728Ke"
      },
      "source": [
        "def get_useful_var(useful_nonterminals, tokens, vars):\n",
        "  for var, rules in vars.items():\n",
        "    if var in useful_nonterminals:\n",
        "      continue\n",
        "    for rule in rules:\n",
        "      # if every symbol in the rule is either a terminal or useful non terminal,\n",
        "      # then var is also useful non terminal\n",
        "      if all(map(lambda x: x in tokens or x in useful_nonterminals, rule)):\n",
        "        return var\n",
        "  return None\n",
        "\n",
        "def get_useful_nonterminals(grammar):\n",
        "  tokens = grammar['toks']\n",
        "  vars = grammar['vars']\n",
        "\n",
        "  useful_nonterminals = set()\n",
        "\n",
        "  while True:\n",
        "    uv = get_useful_var(useful_nonterminals, tokens, vars)\n",
        "    if uv == None:\n",
        "      return useful_nonterminals\n",
        "    useful_nonterminals.add(uv)\n"
      ],
      "execution_count": 9,
      "outputs": []
    },
    {
      "cell_type": "markdown",
      "metadata": {
        "id": "oQiujKgWhDnm"
      },
      "source": [
        "To verify that filtering function works, running it on a sample grammar, which\n",
        "nonterminals are `S, A, E`"
      ]
    },
    {
      "cell_type": "code",
      "metadata": {
        "colab": {
          "base_uri": "https://localhost:8080/"
        },
        "id": "pjWO_0tVGgM2",
        "outputId": "40178199-0ea7-4395-947c-a8c8aaf86408"
      },
      "source": [
        "GRAMMAR = {\n",
        "  'toks': set([\n",
        "      (0, 'a'),\n",
        "      (1, 'b'),\n",
        "  ]),\n",
        "  'vars': {\n",
        "      'S': [['A', (0, 'a')], [(1, 'b'), 'S', 'B']],\n",
        "      'A': [['B', 'A'], ['E', 'S'], [(1, 'b'), 'E']],\n",
        "      'B': [[(0, 'a'), (1, 'b'), 'D'], [(1, 'b'), 'B']],\n",
        "      'C': [['B', 'A'], [(1, 'b'), 'C']],\n",
        "      'D': [['D', 'B'], [(0, 'a'), 'D']],\n",
        "      'E': [['A', 'S'], [(1, 'b')], ['F']],\n",
        "      'F': [[]]\n",
        "  },\n",
        "  'hvar': 'S'\n",
        "}\n",
        "\n",
        "print(get_useful_nonterminals(GRAMMAR))"
      ],
      "execution_count": 13,
      "outputs": [
        {
          "output_type": "stream",
          "name": "stdout",
          "text": [
            "{'A', 'S', 'F', 'E'}\n"
          ]
        }
      ]
    },
    {
      "cell_type": "markdown",
      "metadata": {
        "id": "D9Ag-Okriirw"
      },
      "source": [
        "Now we need to remove those rules, which have useless nonterminals. This is straightforward - every symbol in the rule must be either a terminal, or useful nonterminal."
      ]
    },
    {
      "cell_type": "code",
      "metadata": {
        "colab": {
          "base_uri": "https://localhost:8080/"
        },
        "id": "o4fcmxfYi155",
        "outputId": "d7a1acc5-5ea9-470d-8cf1-2bdfea5fba90"
      },
      "source": [
        "def reduced_grammar(grammar):\n",
        "  nonterminals = get_useful_nonterminals(grammar)\n",
        "  \n",
        "  tokens = grammar['toks']\n",
        "  vars = grammar['vars']\n",
        "\n",
        "  new_vars = {}\n",
        "  for var, rules in vars.items():\n",
        "    if var not in nonterminals:\n",
        "      continue\n",
        "    new_vars[var] = []\n",
        "    for rule in rules:\n",
        "      valid_rule = all(map(lambda x: x in tokens or x in nonterminals, rule))\n",
        "      if valid_rule:\n",
        "        new_vars[var].append(rule)\n",
        "  return {\n",
        "      'toks': tokens,\n",
        "      'vars': new_vars,\n",
        "      'hvar': grammar['hvar']\n",
        "  }\n",
        "    \n",
        "print(reduced_grammar(GRAMMAR))"
      ],
      "execution_count": 12,
      "outputs": [
        {
          "output_type": "stream",
          "name": "stdout",
          "text": [
            "{'toks': {(1, 'b'), (0, 'a')}, 'vars': {'S': [['A', (0, 'a')]], 'A': [['E', 'S'], [(1, 'b'), 'E']], 'E': [['A', 'S'], [(1, 'b')]]}, 'hvar': 'S'}\n"
          ]
        }
      ]
    },
    {
      "cell_type": "markdown",
      "metadata": {
        "id": "7w9382v27DTz"
      },
      "source": [
        "Nonterminal is disappearing if all productions from it are consisting of disappearing nonterminals. Obviously, this is also the case when production is empty set. Otherwise, grammar doesn't have disappearing nonterminals."
      ]
    },
    {
      "cell_type": "code",
      "metadata": {
        "colab": {
          "base_uri": "https://localhost:8080/"
        },
        "id": "7SQgs81Y7wS_",
        "outputId": "3ee0de00-c3e7-43eb-a16a-1d5876a9582a"
      },
      "source": [
        "def get_disappearing_nonterminal(dnts, tokens, vars):\n",
        "  for var, rules in vars.items():\n",
        "    if var in dnts:\n",
        "      continue\n",
        "    for rule in rules:\n",
        "      # if every symbol in the rule is either a terminal or useful non terminal,\n",
        "      # then var is also useful non terminal\n",
        "      if all(map(lambda x: x in dnts, rule)):\n",
        "        return var\n",
        "  return None\n",
        "\n",
        "def disappearing_nonterminals(grammar):\n",
        "  tokens = grammar['toks']\n",
        "  vars = grammar['vars']\n",
        "\n",
        "  disappearing_nonterminals = set()\n",
        "\n",
        "  while True:\n",
        "    dnt = get_disappearing_nonterminal(disappearing_nonterminals, tokens, vars)\n",
        "    if dnt == None:\n",
        "      return disappearing_nonterminals\n",
        "    disappearing_nonterminals.add(dnt)\n",
        "\n",
        "print(disappearing_nonterminals(GRAMMAR))"
      ],
      "execution_count": 14,
      "outputs": [
        {
          "output_type": "stream",
          "name": "stdout",
          "text": [
            "{'F', 'E'}\n"
          ]
        }
      ]
    }
  ]
}