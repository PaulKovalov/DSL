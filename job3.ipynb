{
  "nbformat": 4,
  "nbformat_minor": 0,
  "metadata": {
    "colab": {
      "name": "Untitled2.ipynb",
      "provenance": [],
      "collapsed_sections": []
    },
    "kernelspec": {
      "name": "python3",
      "display_name": "Python 3"
    },
    "language_info": {
      "name": "python"
    }
  },
  "cells": [
    {
      "cell_type": "markdown",
      "metadata": {
        "id": "DWYDeTim81Wo"
      },
      "source": [
        "\n",
        "\n",
        "```\n",
        "{'toks': set(token), 'vars': dict(var: definition), 'hvar': var}\n",
        "token : (class, value)\n",
        "class : int\n",
        "value : str\n",
        "var : str                 # non-terminal name\n",
        "definition : list(rule)\n",
        "rule : list(var | token)  # right side of the rule```\n"
      ]
    },
    {
      "cell_type": "markdown",
      "metadata": {
        "id": "60ni4V7u-uvW"
      },
      "source": [
        "FIRST(X) is a set of terminal symbols that strings derived from X begin with"
      ]
    },
    {
      "cell_type": "code",
      "metadata": {
        "id": "QoDerFVU8cjC"
      },
      "source": [
        "def FIRST(tokens, productions, symbol):\n",
        "  result = set()\n",
        "  for rule in productions[symbol]:\n",
        "    # take first symbol of each rule and add it to the set\n",
        "    # if the symbol is non terminal, otherwise call FIRST recursively\n",
        "    if rule[0] in tokens:\n",
        "      result.add(rule[0])\n",
        "    else:\n",
        "      result |= FIRST(tokens, productions, rule[0])\n",
        "  return result"
      ],
      "execution_count": 8,
      "outputs": []
    },
    {
      "cell_type": "markdown",
      "metadata": {
        "id": "Cj_2JGqTB_Kk"
      },
      "source": [
        "Testing the FIRST on the non-terminal A from the grammar below"
      ]
    },
    {
      "cell_type": "code",
      "metadata": {
        "colab": {
          "base_uri": "https://localhost:8080/"
        },
        "id": "bVtHwLX1CmKQ",
        "outputId": "78004fec-f7d6-4693-f82b-02111a12d785"
      },
      "source": [
        "GRAMMAR = {\n",
        "    'toks': {(0, 'a'), (1, 'b'), (2, 'c'), (3, 'd')},\n",
        "    'vars': {\n",
        "        'A': [['B'], ['C']],\n",
        "        'C': [[(0, 'a'), 'B'], [(3, 'd'), (2, 'c')]],\n",
        "        'B': [['D']],\n",
        "        'D': [[(1, 'b')], [(3, 'd')]],\n",
        "    },\n",
        "    'hvar': 'A',\n",
        "}\n",
        "\n",
        "print(FIRST(GRAMMAR['toks'], GRAMMAR['vars'], GRAMMAR['hvar']))"
      ],
      "execution_count": 11,
      "outputs": [
        {
          "output_type": "stream",
          "name": "stdout",
          "text": [
            "{(3, 'd'), (1, 'b'), (0, 'a')}\n"
          ]
        }
      ]
    },
    {
      "cell_type": "markdown",
      "metadata": {
        "id": "KpwsMP6aCwh3"
      },
      "source": [
        "FOLLOW(X) is a set of terminals that may appear right after X in some derivation. To calculate FOLLOW(X) find all productions including X in the right side, and get the following symbols in those productions. If there are no symbols following X in some production A -> pX, then FOLLOW(X) is the same as FOLLOW(A)"
      ]
    },
    {
      "cell_type": "code",
      "metadata": {
        "id": "6eo2A2wEGhMz"
      },
      "source": [
        "def FOLLOW(tokens, productions, symbol):\n",
        "  useful_productions = []\n",
        "  for nt, production in productions.items():\n",
        "    for rule in production:\n",
        "      if symbol in rule:\n",
        "        useful_productions.append((nt, rule))\n",
        "  \n",
        "  result = set()\n",
        "  for p in useful_productions:\n",
        "    lhs, rhs = p\n",
        "    idx = rhs.index(symbol)\n",
        "    if idx + 1 < len(rhs):\n",
        "      next_symbol = rhs[idx + 1]\n",
        "      if next_symbol in tokens:\n",
        "        result.add(next_symbol)\n",
        "      else:\n",
        "        result |= FIRST(tokens, productions, next_symbol)\n",
        "    else:\n",
        "      # find FOLLOW for the left side of this production, as there is nothing following 'symbol'\n",
        "      if lhs != symbol:\n",
        "        result |= FOLLOW(tokens, productions, lhs)\n",
        "  return result"
      ],
      "execution_count": 21,
      "outputs": []
    },
    {
      "cell_type": "markdown",
      "metadata": {
        "id": "s2r_B0azPgU-"
      },
      "source": [
        "To test FOLLOW function, I will create another grammar"
      ]
    },
    {
      "cell_type": "code",
      "metadata": {
        "colab": {
          "base_uri": "https://localhost:8080/"
        },
        "id": "6FoEnjNyPjmd",
        "outputId": "87081585-620a-42ec-93c4-20d758f430b9"
      },
      "source": [
        "GRAMMAR = {\n",
        "    'toks': {(0, 'a'), (1, 'b'), (2, 'c'), (3, 'd'), (4, 'f'), (5, 'g'), (6, 'h'), (7, 'e')},\n",
        "    'vars': {\n",
        "        'A': [[(0, 'a') ,'B', 'D', (6, 'h')]],\n",
        "        'B': [[(2, 'c'), 'C']], \n",
        "        'C': [[(1, 'b'), 'C']],\n",
        "        'D': [['E', 'F']],\n",
        "        'E': [[(5, 'g')], [(7, 'e')]],\n",
        "        'F': [[(4, 'f')], [(7, 'e')]],\n",
        "    },\n",
        "    'hvar': 'A',\n",
        "}\n",
        "print('FOLLOW(A): ', FOLLOW(GRAMMAR['toks'], GRAMMAR['vars'], 'A'))\n",
        "print('FOLLOW(B): ', FOLLOW(GRAMMAR['toks'], GRAMMAR['vars'], 'B'))\n",
        "print('FOLLOW(C): ', FOLLOW(GRAMMAR['toks'], GRAMMAR['vars'], 'C'))\n",
        "print('FOLLOW(D): ', FOLLOW(GRAMMAR['toks'], GRAMMAR['vars'], 'D'))\n",
        "print('FOLLOW(E): ', FOLLOW(GRAMMAR['toks'], GRAMMAR['vars'], 'E'))\n",
        "print('FOLLOW(F): ', FOLLOW(GRAMMAR['toks'], GRAMMAR['vars'], 'F'))"
      ],
      "execution_count": 22,
      "outputs": [
        {
          "output_type": "stream",
          "name": "stdout",
          "text": [
            "FOLLOW(A):  set()\n",
            "FOLLOW(B):  {(5, 'g'), (7, 'e')}\n",
            "FOLLOW(C):  {(5, 'g'), (7, 'e')}\n",
            "FOLLOW(D):  {(6, 'h')}\n",
            "FOLLOW(E):  {(7, 'e'), (4, 'f')}\n",
            "FOLLOW(F):  {(6, 'h')}\n"
          ]
        }
      ]
    }
  ]
}